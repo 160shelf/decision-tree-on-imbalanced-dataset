{
 "cells": [
  {
   "cell_type": "markdown",
   "metadata": {},
   "source": [
    "# Decision Tree on Imbalanced Dataset\n",
    "Imbalanced Dataset is a very common problem in data science. It is a condition where classes are not represented equally or in other words, it is a condition where one class has more instances than the others. This condition can cause several problems such as the model cannot classify the minority class, you cannot use accuracy as the performance metrics, etc."
   ]
  },
  {
   "cell_type": "markdown",
   "metadata": {},
   "source": [
    "# The Dataset\n",
    "The dataset used in this experiment is the Chinese Fall Detection I downloaded from Kaggle. The objective of this experiment is to classify humans' activities -  0 : Standing, 1: Walking, 2:Sitting, 3:Falling, 4:Cramps dan 5:Running<br> \n",
    "The following is the steps conducted in this project<br>\n",
    "1 Import Libraries <br>\n",
    "2 Read Dataset<br>\n",
    "3 Data Preview <br>\n",
    "4 Data Visualization<br>\n",
    "5 Preprocessing (Train - Test Split, Oversampling, Undersampling)<br>\n",
    "6 Decision Tree Model<br>\n",
    "7 Evaluation<br>"
   ]
  },
  {
   "cell_type": "code",
   "execution_count": 1,
   "metadata": {},
   "outputs": [
    {
     "name": "stderr",
     "output_type": "stream",
     "text": [
      "Using TensorFlow backend.\n"
     ]
    }
   ],
   "source": [
    "#Import Libraries\n",
    "from sklearn.preprocessing import StandardScaler\n",
    "from sklearn.tree import DecisionTreeClassifier\n",
    "import numpy as np\n",
    "from sklearn.model_selection import cross_val_score\n",
    "from sklearn.model_selection import train_test_split\n",
    "from sklearn.model_selection import KFold\n",
    "from sklearn.metrics import classification_report\n",
    "import statistics as stat\n",
    "from sklearn.metrics import accuracy_score\n",
    "#from sklearn.metrics import confusion_matrix\n",
    "from imblearn.over_sampling import SMOTE, ADASYN\n",
    "from collections import Counter\n",
    "# Modules used for assessing the performance of the model\n",
    "from sklearn.metrics import accuracy_score\n",
    "from sklearn.metrics import recall_score\n",
    "from sklearn.metrics import roc_auc_score\n",
    "from sklearn.metrics import f1_score\n",
    "from sklearn.metrics import confusion_matrix"
   ]
  },
  {
   "cell_type": "markdown",
   "metadata": {},
   "source": [
    "# Performance Report"
   ]
  },
  {
   "cell_type": "code",
   "execution_count": 67,
   "metadata": {},
   "outputs": [],
   "source": [
    "#Performance Report\n",
    "def generateClassificationReport(y_test,y_pred):\n",
    "    print(classification_report(y_test,y_pred))\n",
    "    print(confusion_matrix(y_test,y_pred))    \n",
    "    print('accuracy is ',accuracy_score(y_test,y_pred))"
   ]
  },
  {
   "cell_type": "markdown",
   "metadata": {},
   "source": [
    "# Read Data and Data Preview\n",
    "1. Data Shape\n",
    "2. Data Head and Tail\n",
    "3. Data Basic Informations\n",
    "4. Data Stats\n",
    "5. Null Value\n",
    "6. Features List\n",
    "7. Class Distribution\n",
    "8. Correlation"
   ]
  },
  {
   "cell_type": "code",
   "execution_count": 68,
   "metadata": {},
   "outputs": [
    {
     "name": "stdout",
     "output_type": "stream",
     "text": [
      "1..data shape: (16382, 7)\n",
      "********************************************************************************************************************************************\n",
      "2.First 10 rows:\n",
      "   ACTIVITY      TIME         SL      EEG  BP   HR  CIRCLUATION\n",
      "0         3   4722.92    4019.64 -1600.00  13   79          317\n",
      "1         2   4059.12    2191.03 -1146.08  20   54          165\n",
      "2         2   4773.56    2787.99 -1263.38  46   67          224\n",
      "3         4   8271.27    9545.98 -2848.93  26  138          554\n",
      "4         4   7102.16   14148.80 -2381.15  85  120          809\n",
      "5         5   7015.24    7336.79 -1699.80  22   95          427\n",
      "6         3   8620.28   24949.90 -3198.06  35  157         1519\n",
      "7         3   9238.73   39245.50 -2590.00  15  196         1885\n",
      "8         0  12276.40   59742.00 -5101.00  56  249         2826\n",
      "9         4  14165.50  140950.00 -1410.00  82  315         5844\n",
      "********************************************************************************************************************************************\n",
      "3.Last 10 rows:\n",
      "       ACTIVITY      TIME         SL       EEG   BP   HR  CIRCLUATION\n",
      "16372         3   6281.68   11744.90  -1807.12   18  105          765\n",
      "16373         0  32053.90  829913.00 -17926.00  110  637        22296\n",
      "16374         2  15767.90  115821.00  -4050.00   48  271         4426\n",
      "16375         4  11468.80   87113.20  -2090.00   28  220         3450\n",
      "16376         4  13625.90   61109.90  -4440.00   27  247         2754\n",
      "16377         4   9280.68   11417.00  -3021.64   36  156          654\n",
      "16378         3   8479.69    9455.54  -2932.85   17  138          554\n",
      "16379         2   8872.53   27449.90  -2870.00   33  156         1364\n",
      "16380         4   7738.99   26466.40  -2920.24   97  156         1521\n",
      "16381         3   9368.34   39149.10  -2970.00   21  196         1885\n",
      "********************************************************************************************************************************************\n",
      "4.Basic information of the raw data:\n",
      "<class 'pandas.core.frame.DataFrame'>\n",
      "RangeIndex: 16382 entries, 0 to 16381\n",
      "Data columns (total 7 columns):\n",
      "ACTIVITY       16382 non-null int64\n",
      "TIME           16382 non-null float64\n",
      "SL             16382 non-null float64\n",
      "EEG            16382 non-null float64\n",
      "BP             16382 non-null int64\n",
      "HR             16382 non-null int64\n",
      "CIRCLUATION    16382 non-null int64\n",
      "dtypes: float64(3), int64(4)\n",
      "memory usage: 896.0 KB\n",
      "None\n",
      "********************************************************************************************************************************************\n",
      "5.Detailed information of the raw data:\n",
      "           ACTIVITY          TIME            SL           EEG            BP  \\\n",
      "count  16382.000000  16382.000000  1.638200e+04  1.638200e+04  16382.000000   \n",
      "mean       2.361494  10936.842478  7.527198e+04 -5.621125e+03     58.251068   \n",
      "std        1.739195   5261.463601  1.275022e+05  1.082209e+05     48.292926   \n",
      "min        0.000000   1954.230000  4.222420e+01 -1.262600e+07      0.000000   \n",
      "25%        0.000000   7263.685000  9.941170e+03 -5.630000e+03     25.000000   \n",
      "50%        3.000000   9769.355000  3.118920e+04 -3.361275e+03     44.000000   \n",
      "75%        4.000000  13481.650000  8.076145e+04 -2.150000e+03     78.000000   \n",
      "max        5.000000  50895.500000  2.426140e+06  1.410000e+06    533.000000   \n",
      "\n",
      "                 HR   CIRCLUATION  \n",
      "count  16382.000000  16382.000000  \n",
      "mean     211.536992   2894.341472  \n",
      "std      129.949521   3825.927830  \n",
      "min       33.000000      5.000000  \n",
      "25%      119.000000    587.000000  \n",
      "50%      180.000000   1581.000000  \n",
      "75%      271.000000   3539.000000  \n",
      "max      986.000000  52210.000000  \n",
      "********************************************************************************************************************************************\n",
      "6.Situation of null value of raw data:\n",
      "ACTIVITY       0\n",
      "TIME           0\n",
      "SL             0\n",
      "EEG            0\n",
      "BP             0\n",
      "HR             0\n",
      "CIRCLUATION    0\n",
      "dtype: int64\n",
      "********************************************************************************************************************************************\n",
      "7.feature_name_list：\n",
      "['ACTIVITY', 'TIME', 'SL', 'EEG', 'BP', 'HR', 'CIRCLUATION']\n",
      "********************************************************************************************************************************************\n",
      "7.Distribution of class_value 'ACTIVITY':\n",
      "0    4608\n",
      "3    3588\n",
      "4    3494\n",
      "2    2502\n",
      "5    1688\n",
      "1     502\n",
      "Name: ACTIVITY, dtype: int64\n",
      "8. Feature Correlation from One Another\n",
      "             ACTIVITY      TIME        SL       EEG        BP        HR  \\\n",
      "ACTIVITY     1.000000 -0.110405 -0.146789  0.027084 -0.116499 -0.144609   \n",
      "TIME        -0.110405  1.000000  0.843200 -0.048278  0.442334  0.973901   \n",
      "SL          -0.146789  0.843200  1.000000 -0.050946  0.401064  0.859408   \n",
      "EEG          0.027084 -0.048278 -0.050946  1.000000 -0.049892 -0.050316   \n",
      "BP          -0.116499  0.442334  0.401064 -0.049892  1.000000  0.469164   \n",
      "HR          -0.144609  0.973901  0.859408 -0.050316  0.469164  1.000000   \n",
      "CIRCLUATION -0.134331  0.876956  0.978060 -0.050408  0.419356  0.904160   \n",
      "\n",
      "             CIRCLUATION  \n",
      "ACTIVITY       -0.134331  \n",
      "TIME            0.876956  \n",
      "SL              0.978060  \n",
      "EEG            -0.050408  \n",
      "BP              0.419356  \n",
      "HR              0.904160  \n",
      "CIRCLUATION     1.000000  \n"
     ]
    }
   ],
   "source": [
    "\"\"\"Generate a raw data preview report\"\"\"\n",
    "import pandas as pd\n",
    "file_path = 'falldetection.csv'\n",
    "data = pd.read_csv(file_path)\n",
    "def preview(data,class_name): #transfer into file_path and the data's class/label name (in this case, class name is ACTIVITY)  \n",
    "\n",
    "    \"\"\"1.show data shape\"\"\"\n",
    "    data_shape = data.shape\n",
    "    print(\"1..data shape:\", data_shape)\n",
    "    print(\"*******\"*20)\n",
    "    #\n",
    "    \"\"\"2.show first 10 rows and last 10 rows of data\"\"\"\n",
    "    head_10 = data.head(10)\n",
    "    print(\"2.First 10 rows:\")\n",
    "    print(head_10)\n",
    "    print(\"*******\"*20)\n",
    "    print(\"3.Last 10 rows:\")\n",
    "    tail_10 = data.tail(10)\n",
    "    print(tail_10)\n",
    "    print(\"*******\"*20)\n",
    "\n",
    "    \"\"\"3.show basic information of the raw data\"\"\"\n",
    "    print(\"4.Basic information of the raw data:\")\n",
    "    data_info = data.info()\n",
    "    print(data_info)\n",
    "    print(\"*******\"*20)\n",
    "\n",
    "    \"\"\"4.Show more detailed information of the data...\"\"\"\n",
    "    data_describe = data.describe(include = \"all\")\n",
    "    print(\"5.Detailed information of the raw data:\")\n",
    "    print(data_describe)\n",
    "    print(\"*******\"*20)\n",
    "\n",
    "    \"\"\"5.Examine null\"\"\"\n",
    "    print(\"6.Situation of null value of raw data:\")\n",
    "    data_null = data.isnull().sum()\n",
    "    print(data_null)\n",
    "    print(\"*******\" * 20)\n",
    "\n",
    "    \"\"\"6.Gain feature name(column name) list\"\"\"\n",
    "    print(\"7.feature_name_list：\")\n",
    "    features_list = data.columns.values.tolist()\n",
    "    print(features_list)\n",
    "    print(\"*******\" * 20)\n",
    "\n",
    "    \"\"\"7.Gain the distribution of class value\"\"\"\n",
    "    print(\"7.Distribution of class_value {}:\".format(repr(class_name)))\n",
    "    class_values_distribution = data[class_name].value_counts()\n",
    "    print(class_values_distribution)\n",
    "    \n",
    "    \"\"\"8 Data Correlation of Each Feature\"\"\"\n",
    "    print('8. Feature Correlation from One Another')\n",
    "    print(data.corr())\n",
    "#use function 'preview'\n",
    "preview(data,'ACTIVITY')"
   ]
  },
  {
   "cell_type": "markdown",
   "metadata": {},
   "source": [
    "There is no missing value in the dataset but the data distribution in each class is highly imbalanced."
   ]
  },
  {
   "cell_type": "markdown",
   "metadata": {},
   "source": [
    "# Preprocessing\n",
    "In this first attempt, we try to fit the data into the model without any preprocessing step exept for Train - Test Split"
   ]
  },
  {
   "cell_type": "code",
   "execution_count": 69,
   "metadata": {},
   "outputs": [],
   "source": [
    "#Split into Training and Test Data\n",
    "X = data.drop(columns=['ACTIVITY']) #<<Training Data\n",
    "y = data['ACTIVITY'].values #<<Class\n",
    "X_train, X_test, y_train, y_test = train_test_split(X, y, test_size=0.3)"
   ]
  },
  {
   "cell_type": "markdown",
   "metadata": {},
   "source": [
    "# Decision Tree\n",
    "The following code is to fit the data into the model, predict with the test data and finally calculating the accuracy"
   ]
  },
  {
   "cell_type": "code",
   "execution_count": 70,
   "metadata": {},
   "outputs": [
    {
     "name": "stdout",
     "output_type": "stream",
     "text": [
      "              precision    recall  f1-score   support\n",
      "\n",
      "           0       0.93      0.84      0.88      1407\n",
      "           1       0.71      0.73      0.72       147\n",
      "           2       0.67      0.71      0.69       767\n",
      "           3       0.61      0.60      0.61      1051\n",
      "           4       0.56      0.60      0.58      1037\n",
      "           5       0.54      0.56      0.55       506\n",
      "\n",
      "    accuracy                           0.69      4915\n",
      "   macro avg       0.67      0.68      0.67      4915\n",
      "weighted avg       0.70      0.69      0.69      4915\n",
      "\n",
      "[[1188    1   29   59   84   46]\n",
      " [   0  108   33    2    3    1]\n",
      " [  14   37  546  117   45    8]\n",
      " [  24    4  144  633  212   34]\n",
      " [  36    2   46  180  622  151]\n",
      " [  18    0   12   42  150  284]]\n",
      "accuracy is  0.6878942014242116\n",
      "\n",
      " Accuracy:  0.6878942014242116\n"
     ]
    }
   ],
   "source": [
    "#Fitting Model, Predict, Evaluation\n",
    "model = DecisionTreeClassifier()\n",
    "acc1 = []\n",
    "model.fit(X_train, y_train)\n",
    "target_pred = model.predict(X_test)\n",
    "generateClassificationReport(y_test,target_pred)\n",
    "acc1.append(accuracy_score(y_test,target_pred))\n",
    "\n",
    "print(\"\\n Accuracy: \",stat.mean(acc1))"
   ]
  },
  {
   "cell_type": "markdown",
   "metadata": {},
   "source": [
    "# Over Sampling\n",
    "Oversampling is resampling the minority class so that it equals to the majority class. I use SMOTE method to oversampling the data."
   ]
  },
  {
   "cell_type": "code",
   "execution_count": 71,
   "metadata": {},
   "outputs": [
    {
     "name": "stdout",
     "output_type": "stream",
     "text": [
      "Before Oversampling\n",
      "[(0, 3202), (1, 348), (2, 1734), (3, 2553), (4, 2434), (5, 1196)]\n",
      "After Oversampling\n",
      "[(0, 3202), (1, 3202), (2, 3202), (3, 3202), (4, 3202), (5, 3202)]\n"
     ]
    }
   ],
   "source": [
    "X_train, X_test, y_train, y_test = train_test_split(X, y, test_size=0.3)\n",
    "#Apply Over Sampling\n",
    "print('Before Oversampling')\n",
    "print(sorted(Counter(y_train).items()))\n",
    "X_train, y_train = SMOTE().fit_resample(X_train, y_train)\n",
    "print('After Oversampling')\n",
    "print(sorted(Counter(y_train).items()))\n",
    "#Standard Scaler\n",
    "#scaler = StandardScaler()  \n",
    "#scaler.fit(X_train)  \n",
    "#X_train = scaler.transform(X_train)  \n",
    "#X_test = scaler.transform(X_test)  "
   ]
  },
  {
   "cell_type": "markdown",
   "metadata": {},
   "source": [
    "# Fitting Model"
   ]
  },
  {
   "cell_type": "code",
   "execution_count": 72,
   "metadata": {},
   "outputs": [
    {
     "name": "stdout",
     "output_type": "stream",
     "text": [
      "              precision    recall  f1-score   support\n",
      "\n",
      "           0       0.93      0.84      0.88      1406\n",
      "           1       0.64      0.81      0.71       154\n",
      "           2       0.66      0.67      0.66       768\n",
      "           3       0.61      0.60      0.60      1035\n",
      "           4       0.59      0.58      0.58      1060\n",
      "           5       0.51      0.63      0.57       492\n",
      "\n",
      "    accuracy                           0.68      4915\n",
      "   macro avg       0.66      0.69      0.67      4915\n",
      "weighted avg       0.69      0.68      0.69      4915\n",
      "\n",
      "[[1175    9   23   46   77   76]\n",
      " [   2  124   22    3    2    1]\n",
      " [  11   49  511  137   47   13]\n",
      " [  28    3  152  616  198   38]\n",
      " [  24    7   55  187  618  169]\n",
      " [  23    1   17   28  112  311]]\n",
      "accuracy is  0.6826042726347915\n",
      "\n",
      " Accuracy:  0.6826042726347915\n"
     ]
    }
   ],
   "source": [
    "#Fitting Model, Prediksi, dan Evaluasi\n",
    "model = DecisionTreeClassifier()\n",
    "acc = []\n",
    "model.fit(X_train, y_train)\n",
    "target_pred = model.predict(X_test)\n",
    "generateClassificationReport(y_test,target_pred)\n",
    "acc.append(accuracy_score(y_test,target_pred))\n",
    "\n",
    "print(\"\\n Accuracy: \",stat.mean(acc))"
   ]
  },
  {
   "cell_type": "markdown",
   "metadata": {},
   "source": [
    "# Under Sampling\n",
    "Undersampling is resampling the majority class so that it equals to the minority class. By using the Random Under Sampler, the data is cut randomly."
   ]
  },
  {
   "cell_type": "code",
   "execution_count": 73,
   "metadata": {},
   "outputs": [],
   "source": [
    "from imblearn.under_sampling import RandomUnderSampler\n",
    "X_train, X_test, y_train, y_test = train_test_split(X, y, test_size=0.3)\n",
    "#Apply Random Under Sampling\n",
    "rus = RandomUnderSampler(random_state=0)\n",
    "X_train, y_train =rus.fit_resample(X_train, y_train)"
   ]
  },
  {
   "cell_type": "code",
   "execution_count": 74,
   "metadata": {},
   "outputs": [
    {
     "name": "stdout",
     "output_type": "stream",
     "text": [
      "              precision    recall  f1-score   support\n",
      "\n",
      "           0       0.82      0.64      0.72      1393\n",
      "           1       0.53      0.79      0.63       153\n",
      "           2       0.53      0.60      0.56       725\n",
      "           3       0.53      0.49      0.51      1066\n",
      "           4       0.46      0.45      0.46      1049\n",
      "           5       0.41      0.59      0.48       529\n",
      "\n",
      "    accuracy                           0.56      4915\n",
      "   macro avg       0.55      0.59      0.56      4915\n",
      "weighted avg       0.58      0.56      0.57      4915\n",
      "\n",
      "[[889  11  66 109 169 149]\n",
      " [  2 121  17   7   3   3]\n",
      " [ 25  86 437 100  51  26]\n",
      " [ 68   5 181 521 219  72]\n",
      " [ 66   4 102 197 474 206]\n",
      " [ 39   3  19  44 111 313]]\n",
      "accuracy is  0.560528992878942\n",
      "\n",
      " Accuracy:  0.560528992878942\n"
     ]
    }
   ],
   "source": [
    "#Fitting Model, Prediksi, dan Evaluasi\n",
    "model = DecisionTreeClassifier()\n",
    "acc2 = []\n",
    "model.fit(X_train, y_train)\n",
    "target_pred = model.predict(X_test)\n",
    "generateClassificationReport(y_test,target_pred)\n",
    "acc2.append(accuracy_score(y_test,target_pred))\n",
    "\n",
    "print(\"\\n Accuracy: \",stat.mean(acc2))"
   ]
  },
  {
   "cell_type": "markdown",
   "metadata": {},
   "source": [
    "# Discussion\n",
    "No preprocessing and Oversampling showed almost the same performance (with only 0,01% difference) which tell us that imbalanced dataset does not affect Decision Tree’s performance. This proves the theory that Decision Tree works well with imbalanced data. On the other side, the Undersampling technique obtained a noticeably lower accuracy. This may be caused by the reducing number of datasets after undersampling was performed. Random Over Sampling means that it will randomly remove any data so that each class has the same number of data as the minority class (in this case, Class ‘1’ with 502 rows). Random Over Sampling is an easy method but we may lose important data."
   ]
  },
  {
   "cell_type": "code",
   "execution_count": 75,
   "metadata": {},
   "outputs": [
    {
     "name": "stdout",
     "output_type": "stream",
     "text": [
      "0.6878942014242116\n",
      "0.6826042726347915\n",
      "0.560528992878942\n"
     ]
    },
    {
     "data": {
      "text/plain": [
       "<BarContainer object of 3 artists>"
      ]
     },
     "execution_count": 75,
     "metadata": {},
     "output_type": "execute_result"
    },
    {
     "data": {
      "image/png": "[encoded data removed]",
      "text/plain": [
       "<Figure size 432x288 with 1 Axes>"
      ]
     },
     "metadata": {
      "needs_background": "light"
     },
     "output_type": "display_data"
    }
   ],
   "source": [
    "import matplotlib.pyplot as plt\n",
    "print(stat.mean(acc1))\n",
    "print(stat.mean(acc))\n",
    "print(stat.mean(acc2))\n",
    "\n",
    "data = {'No Preprocessing': stat.mean(acc1), 'Oversampling': stat.mean(acc), 'Undersampling': stat.mean(acc2)}\n",
    "names = list(data.keys())\n",
    "values = list(data.values())\n",
    "\n",
    "#fig, axs = plt.subplots(1, 3, figsize=(9, 3), sharey=True)\n",
    "plt.bar(names, values)"
   ]
  },
  {
   "cell_type": "markdown",
   "metadata": {},
   "source": [
    "Dataset can be downloaded on: https://www.kaggle.com/pitasr/falldata <br>\n",
    "Don't forget to cite the author:<br>\n",
    "Özdemir, Ahmet Turan, and Billur Barshan. “Detecting Falls with Wearable Sensors Using Machine Learning Techniques.” Sensors (Basel, Switzerland) 14.6 (2014): 10691–10708. PMC. Web. 23 Apr. 2017."
   ]
  },
  {
   "cell_type": "code",
   "execution_count": null,
   "metadata": {},
   "outputs": [],
   "source": []
  }
 ],
 "metadata": {
  "kernelspec": {
   "display_name": "Python 3",
   "language": "python",
   "name": "python3"
  },
  "language_info": {
   "codemirror_mode": {
    "name": "ipython",
    "version": 3
   },
   "file_extension": ".py",
   "mimetype": "text/x-python",
   "name": "python",
   "nbconvert_exporter": "python",
   "pygments_lexer": "ipython3",
   "version": "3.6.8"
  }
 },
 "nbformat": 4,
 "nbformat_minor": 2
}
